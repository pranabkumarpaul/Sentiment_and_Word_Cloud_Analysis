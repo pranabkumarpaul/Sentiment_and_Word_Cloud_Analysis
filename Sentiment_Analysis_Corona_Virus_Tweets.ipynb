{
 "cells": [
  {
   "cell_type": "markdown",
   "metadata": {},
   "source": [
    "# Sentiment & Wordcloud Analysis.\n",
    "### Using TextBlob."
   ]
  },
  {
   "cell_type": "markdown",
   "metadata": {},
   "source": [
    " "
   ]
  },
  {
   "cell_type": "markdown",
   "metadata": {},
   "source": [
    "## Data:-  Twitter Data. <br> Topic:- Corona Virus."
   ]
  },
  {
   "cell_type": "code",
   "execution_count": 1,
   "metadata": {},
   "outputs": [],
   "source": [
    "# Installing the library to fetch Tweets\n",
    "#!pip install tweepy"
   ]
  },
  {
   "cell_type": "code",
   "execution_count": 2,
   "metadata": {},
   "outputs": [],
   "source": [
    "# Variables for user credentials to access Twitter API\n",
    "access_token = \"1399819700457017345-K9Hhc0tfURvgRd4NNhQvej7YW3ReSs\"\n",
    "access_token_secret = \"hUl3ANuYhrgJxYNwT2ML5weSsDC7oOEPEqYpKYOcpz0w3\"\n",
    "consumer_key = \"qpLmZbupMFUV0qJyYdWOjoJNG\"\n",
    "consumer_secret = \"0ltT1eyYKTxFcQJgma945JrJKJYJgQiEV8WjnQUg2GRaWY2yeO\""
   ]
  },
  {
   "cell_type": "code",
   "execution_count": 3,
   "metadata": {},
   "outputs": [
    {
     "name": "stdout",
     "output_type": "stream",
     "text": [
      "Total number of tweets found: 100\n"
     ]
    }
   ],
   "source": [
    "import tweepy\n",
    "import pandas as pd\n",
    "\n",
    "# Connecting to twitter using credentials\n",
    "auth = tweepy.OAuthHandler(consumer_key, consumer_secret)\n",
    "auth.set_access_token(access_token, access_token_secret)\n",
    "api = tweepy.API(auth)\n",
    "\n",
    "# Searching about the given keyword in all the latest tweets & pull the data\n",
    "tweets_data=api.search('corona virus',count=100, lang='en', include_rts=False, tweet_mode=\"extended\",\n",
    "                      geocode=\"22.5726,88.3639,100km\")\n",
    "print (\"Total number of tweets found: \"+ str(len(tweets_data)))\n",
    "\n",
    "\n",
    "# Creating an empty data frame to store the tweets\n",
    "tweets = pd.DataFrame()\n",
    "\n",
    "# Extracting the tweet metadata\n",
    "for status in tweets_data:\n",
    "    tweets=tweets.append(status._json, ignore_index=True)"
   ]
  },
  {
   "cell_type": "code",
   "execution_count": 26,
   "metadata": {},
   "outputs": [
    {
     "data": {
      "text/html": [
       "<div>\n",
       "<style scoped>\n",
       "    .dataframe tbody tr th:only-of-type {\n",
       "        vertical-align: middle;\n",
       "    }\n",
       "\n",
       "    .dataframe tbody tr th {\n",
       "        vertical-align: top;\n",
       "    }\n",
       "\n",
       "    .dataframe thead th {\n",
       "        text-align: right;\n",
       "    }\n",
       "</style>\n",
       "<table border=\"1\" class=\"dataframe\">\n",
       "  <thead>\n",
       "    <tr style=\"text-align: right;\">\n",
       "      <th></th>\n",
       "      <th>contributors</th>\n",
       "      <th>coordinates</th>\n",
       "      <th>created_at</th>\n",
       "      <th>display_text_range</th>\n",
       "      <th>entities</th>\n",
       "      <th>favorite_count</th>\n",
       "      <th>favorited</th>\n",
       "      <th>full_text</th>\n",
       "      <th>geo</th>\n",
       "      <th>id</th>\n",
       "      <th>...</th>\n",
       "      <th>retweeted</th>\n",
       "      <th>source</th>\n",
       "      <th>truncated</th>\n",
       "      <th>user</th>\n",
       "      <th>retweeted_status</th>\n",
       "      <th>extended_entities</th>\n",
       "      <th>possibly_sensitive</th>\n",
       "      <th>quoted_status</th>\n",
       "      <th>quoted_status_id</th>\n",
       "      <th>quoted_status_id_str</th>\n",
       "    </tr>\n",
       "  </thead>\n",
       "  <tbody>\n",
       "    <tr>\n",
       "      <th>0</th>\n",
       "      <td>None</td>\n",
       "      <td>None</td>\n",
       "      <td>Thu Jun 03 13:11:09 +0000 2021</td>\n",
       "      <td>[26, 161]</td>\n",
       "      <td>{'hashtags': [], 'symbols': [], 'user_mentions...</td>\n",
       "      <td>1.0</td>\n",
       "      <td>0.0</td>\n",
       "      <td>@lucky_koley @iamRashmika No option known to  ...</td>\n",
       "      <td>None</td>\n",
       "      <td>1.400440e+18</td>\n",
       "      <td>...</td>\n",
       "      <td>0.0</td>\n",
       "      <td>&lt;a href=\"http://twitter.com/download/android\" ...</td>\n",
       "      <td>0.0</td>\n",
       "      <td>{'id': 973959199548829696, 'id_str': '97395919...</td>\n",
       "      <td>NaN</td>\n",
       "      <td>NaN</td>\n",
       "      <td>NaN</td>\n",
       "      <td>NaN</td>\n",
       "      <td>NaN</td>\n",
       "      <td>NaN</td>\n",
       "    </tr>\n",
       "    <tr>\n",
       "      <th>1</th>\n",
       "      <td>None</td>\n",
       "      <td>None</td>\n",
       "      <td>Thu Jun 03 13:05:57 +0000 2021</td>\n",
       "      <td>[0, 140]</td>\n",
       "      <td>{'hashtags': [], 'symbols': [], 'user_mentions...</td>\n",
       "      <td>0.0</td>\n",
       "      <td>0.0</td>\n",
       "      <td>RT @TheGentleWulf: While its important to stay...</td>\n",
       "      <td>None</td>\n",
       "      <td>1.400439e+18</td>\n",
       "      <td>...</td>\n",
       "      <td>0.0</td>\n",
       "      <td>&lt;a href=\"https://mobile.twitter.com\" rel=\"nofo...</td>\n",
       "      <td>0.0</td>\n",
       "      <td>{'id': 1348008233584140288, 'id_str': '1348008...</td>\n",
       "      <td>{'created_at': 'Mon May 03 21:23:52 +0000 2021...</td>\n",
       "      <td>NaN</td>\n",
       "      <td>NaN</td>\n",
       "      <td>NaN</td>\n",
       "      <td>NaN</td>\n",
       "      <td>NaN</td>\n",
       "    </tr>\n",
       "  </tbody>\n",
       "</table>\n",
       "<p>2 rows × 31 columns</p>\n",
       "</div>"
      ],
      "text/plain": [
       "  contributors coordinates                      created_at display_text_range  \\\n",
       "0         None        None  Thu Jun 03 13:11:09 +0000 2021          [26, 161]   \n",
       "1         None        None  Thu Jun 03 13:05:57 +0000 2021           [0, 140]   \n",
       "\n",
       "                                            entities  favorite_count  \\\n",
       "0  {'hashtags': [], 'symbols': [], 'user_mentions...             1.0   \n",
       "1  {'hashtags': [], 'symbols': [], 'user_mentions...             0.0   \n",
       "\n",
       "   favorited                                          full_text   geo  \\\n",
       "0        0.0  @lucky_koley @iamRashmika No option known to  ...  None   \n",
       "1        0.0  RT @TheGentleWulf: While its important to stay...  None   \n",
       "\n",
       "             id  ... retweeted  \\\n",
       "0  1.400440e+18  ...       0.0   \n",
       "1  1.400439e+18  ...       0.0   \n",
       "\n",
       "                                              source truncated  \\\n",
       "0  <a href=\"http://twitter.com/download/android\" ...       0.0   \n",
       "1  <a href=\"https://mobile.twitter.com\" rel=\"nofo...       0.0   \n",
       "\n",
       "                                                user  \\\n",
       "0  {'id': 973959199548829696, 'id_str': '97395919...   \n",
       "1  {'id': 1348008233584140288, 'id_str': '1348008...   \n",
       "\n",
       "                                    retweeted_status extended_entities  \\\n",
       "0                                                NaN               NaN   \n",
       "1  {'created_at': 'Mon May 03 21:23:52 +0000 2021...               NaN   \n",
       "\n",
       "   possibly_sensitive quoted_status quoted_status_id quoted_status_id_str  \n",
       "0                 NaN           NaN              NaN                  NaN  \n",
       "1                 NaN           NaN              NaN                  NaN  \n",
       "\n",
       "[2 rows x 31 columns]"
      ]
     },
     "execution_count": 26,
     "metadata": {},
     "output_type": "execute_result"
    }
   ],
   "source": [
    "# Looking at the data\n",
    "tweets.head(2)"
   ]
  },
  {
   "cell_type": "code",
   "execution_count": 27,
   "metadata": {},
   "outputs": [
    {
     "data": {
      "text/html": [
       "<div>\n",
       "<style scoped>\n",
       "    .dataframe tbody tr th:only-of-type {\n",
       "        vertical-align: middle;\n",
       "    }\n",
       "\n",
       "    .dataframe tbody tr th {\n",
       "        vertical-align: top;\n",
       "    }\n",
       "\n",
       "    .dataframe thead th {\n",
       "        text-align: right;\n",
       "    }\n",
       "</style>\n",
       "<table border=\"1\" class=\"dataframe\">\n",
       "  <thead>\n",
       "    <tr style=\"text-align: right;\">\n",
       "      <th></th>\n",
       "      <th>full_text</th>\n",
       "    </tr>\n",
       "  </thead>\n",
       "  <tbody>\n",
       "    <tr>\n",
       "      <th>0</th>\n",
       "      <td>@lucky_koley @iamRashmika No option known to  ...</td>\n",
       "    </tr>\n",
       "    <tr>\n",
       "      <th>1</th>\n",
       "      <td>RT @TheGentleWulf: While its important to stay...</td>\n",
       "    </tr>\n",
       "    <tr>\n",
       "      <th>2</th>\n",
       "      <td>RT @TheGentleWulf: While its important to stay...</td>\n",
       "    </tr>\n",
       "  </tbody>\n",
       "</table>\n",
       "</div>"
      ],
      "text/plain": [
       "                                           full_text\n",
       "0  @lucky_koley @iamRashmika No option known to  ...\n",
       "1  RT @TheGentleWulf: While its important to stay...\n",
       "2  RT @TheGentleWulf: While its important to stay..."
      ]
     },
     "execution_count": 27,
     "metadata": {},
     "output_type": "execute_result"
    }
   ],
   "source": [
    "tweets_data= pd.DataFrame(tweets['full_text'])\n",
    "tweets_data.head(3)"
   ]
  },
  {
   "cell_type": "code",
   "execution_count": 28,
   "metadata": {},
   "outputs": [
    {
     "data": {
      "text/plain": [
       "'[\\'RT @TheGentleWulf: While its important to stay indoors to be safe from covid, its equally important to look after your mental health...\\\\n\\\\nTh…\\'\\n \\'Download our app from Google Play Store and experience easy ordering of medicines. Delivering medicines at your comfort 🤗\\\\n#tablt #pharmacy #app #vernacular #playstore #medicines #ordernow #downloadapp #virus #pandemic #corona #wb #bihar #odisha #jharkhand #bharat https://t.co/YL7vClLAJe\\'\\n \\'@Atulsharmadubai @SinghNeelmani @narendramodi What can anyone do if Corona continues or any other virus came to this earth. You have to take a decision considering the present situation.\\'\\n \"RT @Akaash1Aj: 🔰Chinese scientists made corona virus in Wuhan\\'s lab, sensational claim made in new study 🤷\\\\u200d♂️\\\\n#चीनी_वायरस_से_विश्व_बर्बाद 😡…\"\\n \\'RT @Akaash1Aj: 🔰Claim in US intelligence report regarding Corona, 👉🏻about 1 month before the virus spread, the staff of Wuhan Lab was ill.…\\'\\n \\'RT @Akaash1Aj: 🔰Work in lab for 5-6 years, 👉🏻trial in Wuhan, then catastrophe 👉🏻all over the world: Chinese scientist unravels his 🤷\\\\u200d♂️coun…\\']'"
      ]
     },
     "execution_count": 28,
     "metadata": {},
     "output_type": "execute_result"
    }
   ],
   "source": [
    "# Looking at the tweets of few rows.\n",
    "# Converting the text column as a single.\n",
    "Tweets_String= str(tweets_data.loc[10:15,'full_text'].values)\n",
    "Tweets_String"
   ]
  },
  {
   "cell_type": "markdown",
   "metadata": {},
   "source": [
    "### There are lot junk in the Data. Like:- Twitter-Handles, Smileys, 'RT' etc.."
   ]
  },
  {
   "cell_type": "code",
   "execution_count": 29,
   "metadata": {},
   "outputs": [],
   "source": [
    "# Creating a function to clean the data\n",
    "\n",
    "def Data_Cleaner(Input_Data):\n",
    "\n",
    "    # Tweet Text cleaning\n",
    "    import re\n",
    "\n",
    "    # Removing the twitter usernames from tweet string\n",
    "    Tweet_Texts_Cleaned=re.sub(r'@\\w+', ' ', Input_Data)\n",
    "\n",
    "    # Removing the URLS from the tweet string\n",
    "    Tweet_Texts_Cleaned=re.sub(r'http\\S+', ' ', Tweet_Texts_Cleaned)\n",
    "\n",
    "    # removing all the special characters\n",
    "    #Tweet_Texts_Cleaned = re.sub(r'[?|$|.|!|:|RT]',r' ',Tweet_Texts_Cleaned)\n",
    "\n",
    "    # Removing everything which is not alphabets except -> (. & ,)\n",
    "    Tweet_Texts_Cleaned= re.sub(r'[^a-z A-Z . ,]',r'',Tweet_Texts_Cleaned)\n",
    "\n",
    "    # Removing 'RT' from tweet string\n",
    "    Tweet_Texts_Cleaned= re.sub(r'[RT]',r' ',Tweet_Texts_Cleaned)\n",
    "\n",
    "    # Removing extra spaces in the text\n",
    "    Tweet_Texts_Cleaned= re.sub(r' +', ' ', Tweet_Texts_Cleaned)\n",
    "\n",
    "    return(Tweet_Texts_Cleaned)"
   ]
  },
  {
   "cell_type": "code",
   "execution_count": 30,
   "metadata": {},
   "outputs": [
    {
     "data": {
      "text/html": [
       "<div>\n",
       "<style scoped>\n",
       "    .dataframe tbody tr th:only-of-type {\n",
       "        vertical-align: middle;\n",
       "    }\n",
       "\n",
       "    .dataframe tbody tr th {\n",
       "        vertical-align: top;\n",
       "    }\n",
       "\n",
       "    .dataframe thead th {\n",
       "        text-align: right;\n",
       "    }\n",
       "</style>\n",
       "<table border=\"1\" class=\"dataframe\">\n",
       "  <thead>\n",
       "    <tr style=\"text-align: right;\">\n",
       "      <th></th>\n",
       "      <th>full_text</th>\n",
       "      <th>Tweets</th>\n",
       "    </tr>\n",
       "  </thead>\n",
       "  <tbody>\n",
       "    <tr>\n",
       "      <th>0</th>\n",
       "      <td>@lucky_koley @iamRashmika No option known to  ...</td>\n",
       "      <td>No option known to praise you my best love AS...</td>\n",
       "    </tr>\n",
       "    <tr>\n",
       "      <th>1</th>\n",
       "      <td>RT @TheGentleWulf: While its important to stay...</td>\n",
       "      <td>While its important to stay indoors to be saf...</td>\n",
       "    </tr>\n",
       "    <tr>\n",
       "      <th>2</th>\n",
       "      <td>RT @TheGentleWulf: While its important to stay...</td>\n",
       "      <td>While its important to stay indoors to be saf...</td>\n",
       "    </tr>\n",
       "  </tbody>\n",
       "</table>\n",
       "</div>"
      ],
      "text/plain": [
       "                                           full_text  \\\n",
       "0  @lucky_koley @iamRashmika No option known to  ...   \n",
       "1  RT @TheGentleWulf: While its important to stay...   \n",
       "2  RT @TheGentleWulf: While its important to stay...   \n",
       "\n",
       "                                              Tweets  \n",
       "0   No option known to praise you my best love AS...  \n",
       "1   While its important to stay indoors to be saf...  \n",
       "2   While its important to stay indoors to be saf...  "
      ]
     },
     "execution_count": 30,
     "metadata": {},
     "output_type": "execute_result"
    }
   ],
   "source": [
    "# Calling the Function & Cleaning the data.\n",
    "tweets_data['Tweets']= tweets_data['full_text'].apply(Data_Cleaner)\n",
    "tweets_data.head(3)\n",
    "#str(tweets_data['Tweets'].values)"
   ]
  },
  {
   "cell_type": "markdown",
   "metadata": {},
   "source": [
    "# Sentiment Analysis & Visualization"
   ]
  },
  {
   "cell_type": "code",
   "execution_count": 31,
   "metadata": {},
   "outputs": [],
   "source": [
    "# Function for Sentiment analysis using NLP\n",
    "\n",
    "def NLP_Sentiment(inpSentence):\n",
    "    \n",
    "    from textblob import TextBlob\n",
    "    blob= TextBlob(inpSentence)\n",
    "    \n",
    "    # accessing the sentiment at the 0th position in ithe result tuple\n",
    "    SentimenitScore=blob.sentiment[0]\n",
    "    \n",
    "    OverallSentiment= ''\n",
    "    \n",
    "    if (SentimenitScore<0):\n",
    "        OverallSentiment= 'Negative'\n",
    "    elif (SentimenitScore>0.1):\n",
    "        OverallSentiment= 'Positive'\n",
    "    else:\n",
    "        OverallSentiment= 'Neutral'\n",
    "        \n",
    "    return(OverallSentiment)"
   ]
  },
  {
   "cell_type": "code",
   "execution_count": 32,
   "metadata": {},
   "outputs": [],
   "source": [
    "tweets_data['Sentiment']=tweets_data['Tweets'].apply(NLP_Sentiment)"
   ]
  },
  {
   "cell_type": "code",
   "execution_count": 33,
   "metadata": {},
   "outputs": [
    {
     "data": {
      "text/html": [
       "<div>\n",
       "<style scoped>\n",
       "    .dataframe tbody tr th:only-of-type {\n",
       "        vertical-align: middle;\n",
       "    }\n",
       "\n",
       "    .dataframe tbody tr th {\n",
       "        vertical-align: top;\n",
       "    }\n",
       "\n",
       "    .dataframe thead th {\n",
       "        text-align: right;\n",
       "    }\n",
       "</style>\n",
       "<table border=\"1\" class=\"dataframe\">\n",
       "  <thead>\n",
       "    <tr style=\"text-align: right;\">\n",
       "      <th></th>\n",
       "      <th>full_text</th>\n",
       "      <th>Tweets</th>\n",
       "      <th>Sentiment</th>\n",
       "    </tr>\n",
       "  </thead>\n",
       "  <tbody>\n",
       "    <tr>\n",
       "      <th>0</th>\n",
       "      <td>@lucky_koley @iamRashmika No option known to  ...</td>\n",
       "      <td>No option known to praise you my best love AS...</td>\n",
       "      <td>Positive</td>\n",
       "    </tr>\n",
       "    <tr>\n",
       "      <th>1</th>\n",
       "      <td>RT @TheGentleWulf: While its important to stay...</td>\n",
       "      <td>While its important to stay indoors to be saf...</td>\n",
       "      <td>Positive</td>\n",
       "    </tr>\n",
       "    <tr>\n",
       "      <th>2</th>\n",
       "      <td>RT @TheGentleWulf: While its important to stay...</td>\n",
       "      <td>While its important to stay indoors to be saf...</td>\n",
       "      <td>Positive</td>\n",
       "    </tr>\n",
       "  </tbody>\n",
       "</table>\n",
       "</div>"
      ],
      "text/plain": [
       "                                           full_text  \\\n",
       "0  @lucky_koley @iamRashmika No option known to  ...   \n",
       "1  RT @TheGentleWulf: While its important to stay...   \n",
       "2  RT @TheGentleWulf: While its important to stay...   \n",
       "\n",
       "                                              Tweets Sentiment  \n",
       "0   No option known to praise you my best love AS...  Positive  \n",
       "1   While its important to stay indoors to be saf...  Positive  \n",
       "2   While its important to stay indoors to be saf...  Positive  "
      ]
     },
     "execution_count": 33,
     "metadata": {},
     "output_type": "execute_result"
    }
   ],
   "source": [
    "tweets_data.head(3)"
   ]
  },
  {
   "cell_type": "code",
   "execution_count": 34,
   "metadata": {},
   "outputs": [
    {
     "data": {
      "image/png": "[encoded data removed]",
      "text/plain": [
       "<Figure size 900x360 with 2 Axes>"
      ]
     },
     "metadata": {
      "needs_background": "light"
     },
     "output_type": "display_data"
    }
   ],
   "source": [
    "# Visualizing the overall sentiment distribution\n",
    "\n",
    "import matplotlib.pyplot as plt\n",
    "fig, subPlot =plt.subplots(nrows=1, ncols=2, figsize=(10,4),dpi= 90)\n",
    "fig.suptitle(\"Sentiment analysis of The Tweets #Corona_Virus\",fontsize= 20)\n",
    "\n",
    "# Grouping the data\n",
    "#GroupedData=tweets_data['Sentiment'].value_counts()\n",
    "GroupedData=tweets_data.groupby('Sentiment').size()\n",
    "\n",
    "# Creating the charts\n",
    "GroupedData.plot(kind='bar', ax=subPlot[0], color=['crimson','lightblue', 'green'],rot= 0)\n",
    "GroupedData.plot(kind='pie', ax=subPlot[1], colors=['crimson','lightblue', 'green'], autopct= '%.2f %%',\n",
    "                         startangle = 0, explode = (0.1,0.0,0.0))    \n",
    "plt.show()"
   ]
  },
  {
   "cell_type": "markdown",
   "metadata": {},
   "source": [
    "# Wordcloud Analysis of the Negative Tweets"
   ]
  },
  {
   "cell_type": "code",
   "execution_count": 35,
   "metadata": {},
   "outputs": [
    {
     "data": {
      "text/plain": [
       "\"[' What can anyone do if Corona continues or any other virus came to this earth. You have to take a decision considering the present situation.'\\n ' Claim in US intelligence report regarding Corona, about month before the virus spread, the staff of Wuhan Lab was ill.'\\n 'Claim in US intelligence report regarding Corona, about month before the virus spread, the staff of Wuhan Lab was ill. '\\n ' new symptoms of new type of corona virus.Dont be afraid, be careful, if these symptoms occur consult a doctor. WeShallOvercome ogether UniteFightCorona IndiaFightsForCoronavirus Kolkatax UNICEF GovtofIndia govtofwestbengal CoronavirusPandemic ABPnews '\\n ' Corona is a deadly chinese virus for rest of the world but for MODI haters its an opportunity. espect little contribution.'\\n ' All Indians are watching when Modi were trying to fight against corona virus nd wave.. On the same side opposition were playing there dirty politic tricks... '\\n ' NEE U and CO should be removed immediately from our EB Club. hey are the CO ONA VI US of our Club.Chor NEE U AND CO should get A VE Y S ONG KICKKKK F OM BEHIND.'\\n ' Hello Dr, I have a doubt regards corona virus.. Please clear on it. People share dead bodies to'\\n ' Hello Dr, I have a doubt regards corona virus.. Please clear on it. People share dead bodies to Mother Earth in their traditional way. But is their any posibilities that plants grown nearby have no varients of it Is it checked '\\n ' Corona virus or Italian virus and its mutants. We urgently need vaccine for both Modiji. Corona can be cured by other means also, but we the ordinary citizens dont have any other cure for this dreadful Italian variety except maybe Vote'\\n ' he reason I want the shutdown to impose and stop this daily morning market is this. I dont see social distancing, Afraid if this is the reason of spreading corona virus. odisha coronavirus '\\n ' Firstly allopathy dont have any permanent solution to various common illnesses and its still at primitive stage..What you think evidence is also a quackery. See quacker of doctors in Corona virus cases they have tried on various known medicine on millions of people.'\\n ' What is wrong in Calling CO ONA a CHINESE VI US '\\n ' Noway, it is moral duty of world powerful nations to have solidarity amp allow WHO to conduct impartial findings of origin amp to develop vaccine to destroy completely fatal Corona virus. Millions lost their loved one . It has created horrible amp horrific situation in our planet..'\\n ' India is the only witness to this incident. his corona virus has taken a terrible shape for politics in India.'\\n 'Corona virus also NA Mycovirus. Do an experiment . take corona virus infected fungus and it to a Guinea pig. Notice the symptoms of Guinea pig for at least days. his is my personal research about origin of covid .'\\n ' Corona virus is Sick, I have gotten an update that the investigation of Wuhan virus is in progress. he president of united states has given a deadline to find out.']\""
      ]
     },
     "execution_count": 35,
     "metadata": {},
     "output_type": "execute_result"
    }
   ],
   "source": [
    "#tweets_data[['Tweets','Sentiment']][tweets_data['Sentiment']=='Negative']\n",
    "\n",
    "Negative_Sentiment= str(tweets_data['Tweets'][tweets_data['Sentiment']=='Negative'].values)\n",
    "Negative_Sentiment"
   ]
  },
  {
   "cell_type": "code",
   "execution_count": 36,
   "metadata": {},
   "outputs": [],
   "source": [
    "# Finding the important word combinations using textblob\n",
    "from textblob import TextBlob\n",
    "\n",
    "# Converting the sample text to a blob\n",
    "SampleTextInBlobFormat = TextBlob(Negative_Sentiment)\n",
    "\n",
    "# Finding the noun phrases (important keywords combination) in the text, to understand what entities are being talked about\n",
    "NounPhrases=SampleTextInBlobFormat.noun_phrases\n",
    "\n",
    "# Creating an empty list to hold new values\n",
    "# combining the noun phrases using underscore to visualize it as wordcloud\n",
    "NewNounList=[]\n",
    "for words in NounPhrases:\n",
    "    NewNounList.append(words.replace(\" \", \"_\"))\n",
    "    \n",
    "# Splitting the text to make list of words\n",
    "#WordList=str(NewNounList).split()    "
   ]
  },
  {
   "cell_type": "code",
   "execution_count": 37,
   "metadata": {},
   "outputs": [
    {
     "data": {
      "text/plain": [
       "['present_situation', 'claim', 'us_intelligence_report', 'corona', 'wuhan_lab']"
      ]
     },
     "execution_count": 37,
     "metadata": {},
     "output_type": "execute_result"
    }
   ],
   "source": [
    "# Looking at the Few noun_phrases\n",
    "NewNounList[1:6]"
   ]
  },
  {
   "cell_type": "code",
   "execution_count": 38,
   "metadata": {},
   "outputs": [
    {
     "name": "stdout",
     "output_type": "stream",
     "text": [
      "words\n",
      "corona                          9\n",
      "corona_virus                    3\n",
      "doubt_regards_corona_virus..    2\n",
      "guinea                          2\n",
      "hello_dr                        2\n",
      "india                           2\n",
      "modi                            2\n",
      "please                          2\n",
      "us_intelligence_report          2\n",
      "wuhan_lab                       2\n",
      "'corona_virus                   1\n",
      "afraid                          1\n",
      "allopathy_dont                  1\n",
      "chinese_vi                      1\n",
      "chinese_virus                   1\n",
      "dtype: int64\n"
     ]
    }
   ],
   "source": [
    "# Finding out the frequency of Top 10 words in text\n",
    "\n",
    "# Creating a Dataframe\n",
    "WordData=pd.DataFrame(data= pd.Series(NewNounList), columns=['words'])\n",
    "\n",
    "# Finding the top frequency words\n",
    "print(WordData.groupby('words').size().nlargest(15))"
   ]
  },
  {
   "cell_type": "code",
   "execution_count": 39,
   "metadata": {},
   "outputs": [
    {
     "data": {
      "image/png": "[encoded data removed]",
      "text/plain": [
       "<Figure size 1080x504 with 1 Axes>"
      ]
     },
     "metadata": {
      "needs_background": "light"
     },
     "output_type": "display_data"
    }
   ],
   "source": [
    "# Converting list into a string to plot wordcloud\n",
    "NewNounString=' '.join(NewNounList)\n",
    "#print('##### Important word combinations ####')\n",
    "#print(NewNounString)\n",
    "\n",
    "########################################################################\n",
    "# Plotting the wordcloud\n",
    "%matplotlib inline\n",
    "import matplotlib.pyplot as plt\n",
    "\n",
    "from wordcloud import WordCloud, STOPWORDS\n",
    "\n",
    "# Creating a custom list of stopwords\n",
    "customStopwords=list(STOPWORDS) + ['corona_virus','corona']\n",
    "\n",
    "wordcloudimage = WordCloud( max_words=100,\n",
    "                            font_step=2 ,\n",
    "                            max_font_size=500,\n",
    "                            stopwords=customStopwords,\n",
    "                            background_color='black',\n",
    "                            width=1000,\n",
    "                            height=720\n",
    "                          ).generate(NewNounString)\n",
    "\n",
    "plt.figure(figsize=(15,7))\n",
    "plt.imshow(wordcloudimage)\n",
    "plt.axis(\"off\")\n",
    "plt.show()"
   ]
  },
  {
   "cell_type": "markdown",
   "metadata": {},
   "source": [
    " "
   ]
  },
  {
   "cell_type": "markdown",
   "metadata": {},
   "source": [
    " "
   ]
  },
  {
   "cell_type": "markdown",
   "metadata": {},
   "source": [
    " "
   ]
  },
  {
   "cell_type": "markdown",
   "metadata": {},
   "source": [
    " "
   ]
  },
  {
   "cell_type": "markdown",
   "metadata": {},
   "source": [
    "&emsp;&emsp;&emsp; &emsp;&emsp;&emsp;&emsp;&emsp;&emsp;&emsp;&emsp;&emsp;&emsp;&emsp;&emsp;&emsp;&emsp;&emsp; &emsp;&emsp; &emsp;&emsp;&emsp;&emsp;&emsp;&emsp;&emsp;&emsp;&emsp;&emsp;&emsp; &emsp;&emsp;&emsp;&emsp;&emsp;&emsp;&emsp; &emsp;&emsp; &emsp;&emsp;&emsp;&emsp;&emsp; &emsp;&emsp;&emsp;&emsp;&emsp;&emsp;&emsp;&emsp;&emsp;&emsp;&emsp;&emsp;&emsp;Pranab Kumar Paul."
   ]
  }
 ],
 "metadata": {
  "kernelspec": {
   "display_name": "Python 3",
   "language": "python",
   "name": "python3"
  },
  "language_info": {
   "codemirror_mode": {
    "name": "ipython",
    "version": 3
   },
   "file_extension": ".py",
   "mimetype": "text/x-python",
   "name": "python",
   "nbconvert_exporter": "python",
   "pygments_lexer": "ipython3",
   "version": "3.8.3"
  }
 },
 "nbformat": 4,
 "nbformat_minor": 4
}
